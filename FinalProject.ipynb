{
 "cells": [
  {
   "cell_type": "code",
   "execution_count": 2,
   "id": "9b1a3217-70d4-440e-9cb1-6864baa08c7e",
   "metadata": {
    "scrolled": true
   },
   "outputs": [
    {
     "data": {
      "application/vnd.plotly.v1+json": {
       "config": {
        "plotlyServerURL": "https://plot.ly"
       },
       "data": [
        {
         "domain": {
          "x": [
           0,
           1
          ],
          "y": [
           0,
           1
          ]
         },
         "hovertemplate": "Country=%{label}<br>value=%{value}<extra></extra>",
         "labels": [
          "India",
          "United States",
          "United Kingdom",
          "Brazil",
          "UAE",
          "South Africa",
          "New Zealand",
          "Turkey",
          "Australia",
          "Phillipines",
          "Indonesia",
          "Qatar",
          "Sri Lanka",
          "Singapore",
          "Canada"
         ],
         "legendgroup": "",
         "name": "",
         "showlegend": true,
         "textposition": "inside",
         "type": "pie",
         "values": [
          8652,
          425,
          80,
          60,
          60,
          60,
          40,
          34,
          24,
          22,
          21,
          20,
          20,
          19,
          4
         ]
        }
       ],
       "layout": {
        "autosize": true,
        "legend": {
         "tracegroupgap": 0
        },
        "margin": {
         "t": 60
        },
        "piecolorway": [
         "rgb(103,0,13)",
         "rgb(165,15,21)",
         "rgb(203,24,29)",
         "rgb(239,59,44)",
         "rgb(251,106,74)",
         "rgb(252,146,114)",
         "rgb(252,187,161)",
         "rgb(254,224,210)",
         "rgb(255,245,240)"
        ],
        "template": {
         "data": {
          "bar": [
           {
            "error_x": {
             "color": "#2a3f5f"
            },
            "error_y": {
             "color": "#2a3f5f"
            },
            "marker": {
             "line": {
              "color": "#E5ECF6",
              "width": 0.5
             },
             "pattern": {
              "fillmode": "overlay",
              "size": 10,
              "solidity": 0.2
             }
            },
            "type": "bar"
           }
          ],
          "barpolar": [
           {
            "marker": {
             "line": {
              "color": "#E5ECF6",
              "width": 0.5
             },
             "pattern": {
              "fillmode": "overlay",
              "size": 10,
              "solidity": 0.2
             }
            },
            "type": "barpolar"
           }
          ],
          "carpet": [
           {
            "aaxis": {
             "endlinecolor": "#2a3f5f",
             "gridcolor": "white",
             "linecolor": "white",
             "minorgridcolor": "white",
             "startlinecolor": "#2a3f5f"
            },
            "baxis": {
             "endlinecolor": "#2a3f5f",
             "gridcolor": "white",
             "linecolor": "white",
             "minorgridcolor": "white",
             "startlinecolor": "#2a3f5f"
            },
            "type": "carpet"
           }
          ],
          "choropleth": [
           {
            "colorbar": {
             "outlinewidth": 0,
             "ticks": ""
            },
            "type": "choropleth"
           }
          ],
          "contour": [
           {
            "colorbar": {
             "outlinewidth": 0,
             "ticks": ""
            },
            "colorscale": [
             [
              0,
              "#0d0887"
             ],
             [
              0.1111111111111111,
              "#46039f"
             ],
             [
              0.2222222222222222,
              "#7201a8"
             ],
             [
              0.3333333333333333,
              "#9c179e"
             ],
             [
              0.4444444444444444,
              "#bd3786"
             ],
             [
              0.5555555555555556,
              "#d8576b"
             ],
             [
              0.6666666666666666,
              "#ed7953"
             ],
             [
              0.7777777777777778,
              "#fb9f3a"
             ],
             [
              0.8888888888888888,
              "#fdca26"
             ],
             [
              1,
              "#f0f921"
             ]
            ],
            "type": "contour"
           }
          ],
          "contourcarpet": [
           {
            "colorbar": {
             "outlinewidth": 0,
             "ticks": ""
            },
            "type": "contourcarpet"
           }
          ],
          "heatmap": [
           {
            "colorbar": {
             "outlinewidth": 0,
             "ticks": ""
            },
            "colorscale": [
             [
              0,
              "#0d0887"
             ],
             [
              0.1111111111111111,
              "#46039f"
             ],
             [
              0.2222222222222222,
              "#7201a8"
             ],
             [
              0.3333333333333333,
              "#9c179e"
             ],
             [
              0.4444444444444444,
              "#bd3786"
             ],
             [
              0.5555555555555556,
              "#d8576b"
             ],
             [
              0.6666666666666666,
              "#ed7953"
             ],
             [
              0.7777777777777778,
              "#fb9f3a"
             ],
             [
              0.8888888888888888,
              "#fdca26"
             ],
             [
              1,
              "#f0f921"
             ]
            ],
            "type": "heatmap"
           }
          ],
          "heatmapgl": [
           {
            "colorbar": {
             "outlinewidth": 0,
             "ticks": ""
            },
            "colorscale": [
             [
              0,
              "#0d0887"
             ],
             [
              0.1111111111111111,
              "#46039f"
             ],
             [
              0.2222222222222222,
              "#7201a8"
             ],
             [
              0.3333333333333333,
              "#9c179e"
             ],
             [
              0.4444444444444444,
              "#bd3786"
             ],
             [
              0.5555555555555556,
              "#d8576b"
             ],
             [
              0.6666666666666666,
              "#ed7953"
             ],
             [
              0.7777777777777778,
              "#fb9f3a"
             ],
             [
              0.8888888888888888,
              "#fdca26"
             ],
             [
              1,
              "#f0f921"
             ]
            ],
            "type": "heatmapgl"
           }
          ],
          "histogram": [
           {
            "marker": {
             "pattern": {
              "fillmode": "overlay",
              "size": 10,
              "solidity": 0.2
             }
            },
            "type": "histogram"
           }
          ],
          "histogram2d": [
           {
            "colorbar": {
             "outlinewidth": 0,
             "ticks": ""
            },
            "colorscale": [
             [
              0,
              "#0d0887"
             ],
             [
              0.1111111111111111,
              "#46039f"
             ],
             [
              0.2222222222222222,
              "#7201a8"
             ],
             [
              0.3333333333333333,
              "#9c179e"
             ],
             [
              0.4444444444444444,
              "#bd3786"
             ],
             [
              0.5555555555555556,
              "#d8576b"
             ],
             [
              0.6666666666666666,
              "#ed7953"
             ],
             [
              0.7777777777777778,
              "#fb9f3a"
             ],
             [
              0.8888888888888888,
              "#fdca26"
             ],
             [
              1,
              "#f0f921"
             ]
            ],
            "type": "histogram2d"
           }
          ],
          "histogram2dcontour": [
           {
            "colorbar": {
             "outlinewidth": 0,
             "ticks": ""
            },
            "colorscale": [
             [
              0,
              "#0d0887"
             ],
             [
              0.1111111111111111,
              "#46039f"
             ],
             [
              0.2222222222222222,
              "#7201a8"
             ],
             [
              0.3333333333333333,
              "#9c179e"
             ],
             [
              0.4444444444444444,
              "#bd3786"
             ],
             [
              0.5555555555555556,
              "#d8576b"
             ],
             [
              0.6666666666666666,
              "#ed7953"
             ],
             [
              0.7777777777777778,
              "#fb9f3a"
             ],
             [
              0.8888888888888888,
              "#fdca26"
             ],
             [
              1,
              "#f0f921"
             ]
            ],
            "type": "histogram2dcontour"
           }
          ],
          "mesh3d": [
           {
            "colorbar": {
             "outlinewidth": 0,
             "ticks": ""
            },
            "type": "mesh3d"
           }
          ],
          "parcoords": [
           {
            "line": {
             "colorbar": {
              "outlinewidth": 0,
              "ticks": ""
             }
            },
            "type": "parcoords"
           }
          ],
          "pie": [
           {
            "automargin": true,
            "type": "pie"
           }
          ],
          "scatter": [
           {
            "fillpattern": {
             "fillmode": "overlay",
             "size": 10,
             "solidity": 0.2
            },
            "type": "scatter"
           }
          ],
          "scatter3d": [
           {
            "line": {
             "colorbar": {
              "outlinewidth": 0,
              "ticks": ""
             }
            },
            "marker": {
             "colorbar": {
              "outlinewidth": 0,
              "ticks": ""
             }
            },
            "type": "scatter3d"
           }
          ],
          "scattercarpet": [
           {
            "marker": {
             "colorbar": {
              "outlinewidth": 0,
              "ticks": ""
             }
            },
            "type": "scattercarpet"
           }
          ],
          "scattergeo": [
           {
            "marker": {
             "colorbar": {
              "outlinewidth": 0,
              "ticks": ""
             }
            },
            "type": "scattergeo"
           }
          ],
          "scattergl": [
           {
            "marker": {
             "colorbar": {
              "outlinewidth": 0,
              "ticks": ""
             }
            },
            "type": "scattergl"
           }
          ],
          "scattermapbox": [
           {
            "marker": {
             "colorbar": {
              "outlinewidth": 0,
              "ticks": ""
             }
            },
            "type": "scattermapbox"
           }
          ],
          "scatterpolar": [
           {
            "marker": {
             "colorbar": {
              "outlinewidth": 0,
              "ticks": ""
             }
            },
            "type": "scatterpolar"
           }
          ],
          "scatterpolargl": [
           {
            "marker": {
             "colorbar": {
              "outlinewidth": 0,
              "ticks": ""
             }
            },
            "type": "scatterpolargl"
           }
          ],
          "scatterternary": [
           {
            "marker": {
             "colorbar": {
              "outlinewidth": 0,
              "ticks": ""
             }
            },
            "type": "scatterternary"
           }
          ],
          "surface": [
           {
            "colorbar": {
             "outlinewidth": 0,
             "ticks": ""
            },
            "colorscale": [
             [
              0,
              "#0d0887"
             ],
             [
              0.1111111111111111,
              "#46039f"
             ],
             [
              0.2222222222222222,
              "#7201a8"
             ],
             [
              0.3333333333333333,
              "#9c179e"
             ],
             [
              0.4444444444444444,
              "#bd3786"
             ],
             [
              0.5555555555555556,
              "#d8576b"
             ],
             [
              0.6666666666666666,
              "#ed7953"
             ],
             [
              0.7777777777777778,
              "#fb9f3a"
             ],
             [
              0.8888888888888888,
              "#fdca26"
             ],
             [
              1,
              "#f0f921"
             ]
            ],
            "type": "surface"
           }
          ],
          "table": [
           {
            "cells": {
             "fill": {
              "color": "#EBF0F8"
             },
             "line": {
              "color": "white"
             }
            },
            "header": {
             "fill": {
              "color": "#C8D4E3"
             },
             "line": {
              "color": "white"
             }
            },
            "type": "table"
           }
          ]
         },
         "layout": {
          "annotationdefaults": {
           "arrowcolor": "#2a3f5f",
           "arrowhead": 0,
           "arrowwidth": 1
          },
          "autotypenumbers": "strict",
          "coloraxis": {
           "colorbar": {
            "outlinewidth": 0,
            "ticks": ""
           }
          },
          "colorscale": {
           "diverging": [
            [
             0,
             "#8e0152"
            ],
            [
             0.1,
             "#c51b7d"
            ],
            [
             0.2,
             "#de77ae"
            ],
            [
             0.3,
             "#f1b6da"
            ],
            [
             0.4,
             "#fde0ef"
            ],
            [
             0.5,
             "#f7f7f7"
            ],
            [
             0.6,
             "#e6f5d0"
            ],
            [
             0.7,
             "#b8e186"
            ],
            [
             0.8,
             "#7fbc41"
            ],
            [
             0.9,
             "#4d9221"
            ],
            [
             1,
             "#276419"
            ]
           ],
           "sequential": [
            [
             0,
             "#0d0887"
            ],
            [
             0.1111111111111111,
             "#46039f"
            ],
            [
             0.2222222222222222,
             "#7201a8"
            ],
            [
             0.3333333333333333,
             "#9c179e"
            ],
            [
             0.4444444444444444,
             "#bd3786"
            ],
            [
             0.5555555555555556,
             "#d8576b"
            ],
            [
             0.6666666666666666,
             "#ed7953"
            ],
            [
             0.7777777777777778,
             "#fb9f3a"
            ],
            [
             0.8888888888888888,
             "#fdca26"
            ],
            [
             1,
             "#f0f921"
            ]
           ],
           "sequentialminus": [
            [
             0,
             "#0d0887"
            ],
            [
             0.1111111111111111,
             "#46039f"
            ],
            [
             0.2222222222222222,
             "#7201a8"
            ],
            [
             0.3333333333333333,
             "#9c179e"
            ],
            [
             0.4444444444444444,
             "#bd3786"
            ],
            [
             0.5555555555555556,
             "#d8576b"
            ],
            [
             0.6666666666666666,
             "#ed7953"
            ],
            [
             0.7777777777777778,
             "#fb9f3a"
            ],
            [
             0.8888888888888888,
             "#fdca26"
            ],
            [
             1,
             "#f0f921"
            ]
           ]
          },
          "colorway": [
           "#636efa",
           "#EF553B",
           "#00cc96",
           "#ab63fa",
           "#FFA15A",
           "#19d3f3",
           "#FF6692",
           "#B6E880",
           "#FF97FF",
           "#FECB52"
          ],
          "font": {
           "color": "#2a3f5f"
          },
          "geo": {
           "bgcolor": "white",
           "lakecolor": "white",
           "landcolor": "#E5ECF6",
           "showlakes": true,
           "showland": true,
           "subunitcolor": "white"
          },
          "hoverlabel": {
           "align": "left"
          },
          "hovermode": "closest",
          "mapbox": {
           "style": "light"
          },
          "paper_bgcolor": "white",
          "plot_bgcolor": "#E5ECF6",
          "polar": {
           "angularaxis": {
            "gridcolor": "white",
            "linecolor": "white",
            "ticks": ""
           },
           "bgcolor": "#E5ECF6",
           "radialaxis": {
            "gridcolor": "white",
            "linecolor": "white",
            "ticks": ""
           }
          },
          "scene": {
           "xaxis": {
            "backgroundcolor": "#E5ECF6",
            "gridcolor": "white",
            "gridwidth": 2,
            "linecolor": "white",
            "showbackground": true,
            "ticks": "",
            "zerolinecolor": "white"
           },
           "yaxis": {
            "backgroundcolor": "#E5ECF6",
            "gridcolor": "white",
            "gridwidth": 2,
            "linecolor": "white",
            "showbackground": true,
            "ticks": "",
            "zerolinecolor": "white"
           },
           "zaxis": {
            "backgroundcolor": "#E5ECF6",
            "gridcolor": "white",
            "gridwidth": 2,
            "linecolor": "white",
            "showbackground": true,
            "ticks": "",
            "zerolinecolor": "white"
           }
          },
          "shapedefaults": {
           "line": {
            "color": "#2a3f5f"
           }
          },
          "ternary": {
           "aaxis": {
            "gridcolor": "white",
            "linecolor": "white",
            "ticks": ""
           },
           "baxis": {
            "gridcolor": "white",
            "linecolor": "white",
            "ticks": ""
           },
           "bgcolor": "#E5ECF6",
           "caxis": {
            "gridcolor": "white",
            "linecolor": "white",
            "ticks": ""
           }
          },
          "title": {
           "x": 0.05
          },
          "xaxis": {
           "automargin": true,
           "gridcolor": "white",
           "linecolor": "white",
           "ticks": "",
           "title": {
            "standoff": 15
           },
           "zerolinecolor": "white",
           "zerolinewidth": 2
          },
          "yaxis": {
           "automargin": true,
           "gridcolor": "white",
           "linecolor": "white",
           "ticks": "",
           "title": {
            "standoff": 15
           },
           "zerolinecolor": "white",
           "zerolinewidth": 2
          }
         }
        },
        "title": {
         "text": "Zomato's Presence around the World",
         "x": 0.5
        },
        "uniformtext": {
         "minsize": 12,
         "mode": "hide"
        }
       }
      },
      "image/png": "[encoded data removed]",
      "text/html": [
       "<div>                            <div id=\"49f6b01f-9192-4ac1-9170-648e288b4b0f\" class=\"plotly-graph-div\" style=\"height:525px; width:100%;\"></div>            <script type=\"text/javascript\">                require([\"plotly\"], function(Plotly) {                    window.PLOTLYENV=window.PLOTLYENV || {};                                    if (document.getElementById(\"49f6b01f-9192-4ac1-9170-648e288b4b0f\")) {                    Plotly.newPlot(                        \"49f6b01f-9192-4ac1-9170-648e288b4b0f\",                        [{\"domain\":{\"x\":[0.0,1.0],\"y\":[0.0,1.0]},\"hovertemplate\":\"Country=%{label}\\u003cbr\\u003evalue=%{value}\\u003cextra\\u003e\\u003c\\u002fextra\\u003e\",\"labels\":[\"India\",\"United States\",\"United Kingdom\",\"Brazil\",\"UAE\",\"South Africa\",\"New Zealand\",\"Turkey\",\"Australia\",\"Phillipines\",\"Indonesia\",\"Qatar\",\"Sri Lanka\",\"Singapore\",\"Canada\"],\"legendgroup\":\"\",\"name\":\"\",\"showlegend\":true,\"values\":[8652,425,80,60,60,60,40,34,24,22,21,20,20,19,4],\"type\":\"pie\",\"textposition\":\"inside\"}],                        {\"template\":{\"data\":{\"histogram2dcontour\":[{\"type\":\"histogram2dcontour\",\"colorbar\":{\"outlinewidth\":0,\"ticks\":\"\"},\"colorscale\":[[0.0,\"#0d0887\"],[0.1111111111111111,\"#46039f\"],[0.2222222222222222,\"#7201a8\"],[0.3333333333333333,\"#9c179e\"],[0.4444444444444444,\"#bd3786\"],[0.5555555555555556,\"#d8576b\"],[0.6666666666666666,\"#ed7953\"],[0.7777777777777778,\"#fb9f3a\"],[0.8888888888888888,\"#fdca26\"],[1.0,\"#f0f921\"]]}],\"choropleth\":[{\"type\":\"choropleth\",\"colorbar\":{\"outlinewidth\":0,\"ticks\":\"\"}}],\"histogram2d\":[{\"type\":\"histogram2d\",\"colorbar\":{\"outlinewidth\":0,\"ticks\":\"\"},\"colorscale\":[[0.0,\"#0d0887\"],[0.1111111111111111,\"#46039f\"],[0.2222222222222222,\"#7201a8\"],[0.3333333333333333,\"#9c179e\"],[0.4444444444444444,\"#bd3786\"],[0.5555555555555556,\"#d8576b\"],[0.6666666666666666,\"#ed7953\"],[0.7777777777777778,\"#fb9f3a\"],[0.8888888888888888,\"#fdca26\"],[1.0,\"#f0f921\"]]}],\"heatmap\":[{\"type\":\"heatmap\",\"colorbar\":{\"outlinewidth\":0,\"ticks\":\"\"},\"colorscale\":[[0.0,\"#0d0887\"],[0.1111111111111111,\"#46039f\"],[0.2222222222222222,\"#7201a8\"],[0.3333333333333333,\"#9c179e\"],[0.4444444444444444,\"#bd3786\"],[0.5555555555555556,\"#d8576b\"],[0.6666666666666666,\"#ed7953\"],[0.7777777777777778,\"#fb9f3a\"],[0.8888888888888888,\"#fdca26\"],[1.0,\"#f0f921\"]]}],\"heatmapgl\":[{\"type\":\"heatmapgl\",\"colorbar\":{\"outlinewidth\":0,\"ticks\":\"\"},\"colorscale\":[[0.0,\"#0d0887\"],[0.1111111111111111,\"#46039f\"],[0.2222222222222222,\"#7201a8\"],[0.3333333333333333,\"#9c179e\"],[0.4444444444444444,\"#bd3786\"],[0.5555555555555556,\"#d8576b\"],[0.6666666666666666,\"#ed7953\"],[0.7777777777777778,\"#fb9f3a\"],[0.8888888888888888,\"#fdca26\"],[1.0,\"#f0f921\"]]}],\"contourcarpet\":[{\"type\":\"contourcarpet\",\"colorbar\":{\"outlinewidth\":0,\"ticks\":\"\"}}],\"contour\":[{\"type\":\"contour\",\"colorbar\":{\"outlinewidth\":0,\"ticks\":\"\"},\"colorscale\":[[0.0,\"#0d0887\"],[0.1111111111111111,\"#46039f\"],[0.2222222222222222,\"#7201a8\"],[0.3333333333333333,\"#9c179e\"],[0.4444444444444444,\"#bd3786\"],[0.5555555555555556,\"#d8576b\"],[0.6666666666666666,\"#ed7953\"],[0.7777777777777778,\"#fb9f3a\"],[0.8888888888888888,\"#fdca26\"],[1.0,\"#f0f921\"]]}],\"surface\":[{\"type\":\"surface\",\"colorbar\":{\"outlinewidth\":0,\"ticks\":\"\"},\"colorscale\":[[0.0,\"#0d0887\"],[0.1111111111111111,\"#46039f\"],[0.2222222222222222,\"#7201a8\"],[0.3333333333333333,\"#9c179e\"],[0.4444444444444444,\"#bd3786\"],[0.5555555555555556,\"#d8576b\"],[0.6666666666666666,\"#ed7953\"],[0.7777777777777778,\"#fb9f3a\"],[0.8888888888888888,\"#fdca26\"],[1.0,\"#f0f921\"]]}],\"mesh3d\":[{\"type\":\"mesh3d\",\"colorbar\":{\"outlinewidth\":0,\"ticks\":\"\"}}],\"scatter\":[{\"fillpattern\":{\"fillmode\":\"overlay\",\"size\":10,\"solidity\":0.2},\"type\":\"scatter\"}],\"parcoords\":[{\"type\":\"parcoords\",\"line\":{\"colorbar\":{\"outlinewidth\":0,\"ticks\":\"\"}}}],\"scatterpolargl\":[{\"type\":\"scatterpolargl\",\"marker\":{\"colorbar\":{\"outlinewidth\":0,\"ticks\":\"\"}}}],\"bar\":[{\"error_x\":{\"color\":\"#2a3f5f\"},\"error_y\":{\"color\":\"#2a3f5f\"},\"marker\":{\"line\":{\"color\":\"#E5ECF6\",\"width\":0.5},\"pattern\":{\"fillmode\":\"overlay\",\"size\":10,\"solidity\":0.2}},\"type\":\"bar\"}],\"scattergeo\":[{\"type\":\"scattergeo\",\"marker\":{\"colorbar\":{\"outlinewidth\":0,\"ticks\":\"\"}}}],\"scatterpolar\":[{\"type\":\"scatterpolar\",\"marker\":{\"colorbar\":{\"outlinewidth\":0,\"ticks\":\"\"}}}],\"histogram\":[{\"marker\":{\"pattern\":{\"fillmode\":\"overlay\",\"size\":10,\"solidity\":0.2}},\"type\":\"histogram\"}],\"scattergl\":[{\"type\":\"scattergl\",\"marker\":{\"colorbar\":{\"outlinewidth\":0,\"ticks\":\"\"}}}],\"scatter3d\":[{\"type\":\"scatter3d\",\"line\":{\"colorbar\":{\"outlinewidth\":0,\"ticks\":\"\"}},\"marker\":{\"colorbar\":{\"outlinewidth\":0,\"ticks\":\"\"}}}],\"scattermapbox\":[{\"type\":\"scattermapbox\",\"marker\":{\"colorbar\":{\"outlinewidth\":0,\"ticks\":\"\"}}}],\"scatterternary\":[{\"type\":\"scatterternary\",\"marker\":{\"colorbar\":{\"outlinewidth\":0,\"ticks\":\"\"}}}],\"scattercarpet\":[{\"type\":\"scattercarpet\",\"marker\":{\"colorbar\":{\"outlinewidth\":0,\"ticks\":\"\"}}}],\"carpet\":[{\"aaxis\":{\"endlinecolor\":\"#2a3f5f\",\"gridcolor\":\"white\",\"linecolor\":\"white\",\"minorgridcolor\":\"white\",\"startlinecolor\":\"#2a3f5f\"},\"baxis\":{\"endlinecolor\":\"#2a3f5f\",\"gridcolor\":\"white\",\"linecolor\":\"white\",\"minorgridcolor\":\"white\",\"startlinecolor\":\"#2a3f5f\"},\"type\":\"carpet\"}],\"table\":[{\"cells\":{\"fill\":{\"color\":\"#EBF0F8\"},\"line\":{\"color\":\"white\"}},\"header\":{\"fill\":{\"color\":\"#C8D4E3\"},\"line\":{\"color\":\"white\"}},\"type\":\"table\"}],\"barpolar\":[{\"marker\":{\"line\":{\"color\":\"#E5ECF6\",\"width\":0.5},\"pattern\":{\"fillmode\":\"overlay\",\"size\":10,\"solidity\":0.2}},\"type\":\"barpolar\"}],\"pie\":[{\"automargin\":true,\"type\":\"pie\"}]},\"layout\":{\"autotypenumbers\":\"strict\",\"colorway\":[\"#636efa\",\"#EF553B\",\"#00cc96\",\"#ab63fa\",\"#FFA15A\",\"#19d3f3\",\"#FF6692\",\"#B6E880\",\"#FF97FF\",\"#FECB52\"],\"font\":{\"color\":\"#2a3f5f\"},\"hovermode\":\"closest\",\"hoverlabel\":{\"align\":\"left\"},\"paper_bgcolor\":\"white\",\"plot_bgcolor\":\"#E5ECF6\",\"polar\":{\"bgcolor\":\"#E5ECF6\",\"angularaxis\":{\"gridcolor\":\"white\",\"linecolor\":\"white\",\"ticks\":\"\"},\"radialaxis\":{\"gridcolor\":\"white\",\"linecolor\":\"white\",\"ticks\":\"\"}},\"ternary\":{\"bgcolor\":\"#E5ECF6\",\"aaxis\":{\"gridcolor\":\"white\",\"linecolor\":\"white\",\"ticks\":\"\"},\"baxis\":{\"gridcolor\":\"white\",\"linecolor\":\"white\",\"ticks\":\"\"},\"caxis\":{\"gridcolor\":\"white\",\"linecolor\":\"white\",\"ticks\":\"\"}},\"coloraxis\":{\"colorbar\":{\"outlinewidth\":0,\"ticks\":\"\"}},\"colorscale\":{\"sequential\":[[0.0,\"#0d0887\"],[0.1111111111111111,\"#46039f\"],[0.2222222222222222,\"#7201a8\"],[0.3333333333333333,\"#9c179e\"],[0.4444444444444444,\"#bd3786\"],[0.5555555555555556,\"#d8576b\"],[0.6666666666666666,\"#ed7953\"],[0.7777777777777778,\"#fb9f3a\"],[0.8888888888888888,\"#fdca26\"],[1.0,\"#f0f921\"]],\"sequentialminus\":[[0.0,\"#0d0887\"],[0.1111111111111111,\"#46039f\"],[0.2222222222222222,\"#7201a8\"],[0.3333333333333333,\"#9c179e\"],[0.4444444444444444,\"#bd3786\"],[0.5555555555555556,\"#d8576b\"],[0.6666666666666666,\"#ed7953\"],[0.7777777777777778,\"#fb9f3a\"],[0.8888888888888888,\"#fdca26\"],[1.0,\"#f0f921\"]],\"diverging\":[[0,\"#8e0152\"],[0.1,\"#c51b7d\"],[0.2,\"#de77ae\"],[0.3,\"#f1b6da\"],[0.4,\"#fde0ef\"],[0.5,\"#f7f7f7\"],[0.6,\"#e6f5d0\"],[0.7,\"#b8e186\"],[0.8,\"#7fbc41\"],[0.9,\"#4d9221\"],[1,\"#276419\"]]},\"xaxis\":{\"gridcolor\":\"white\",\"linecolor\":\"white\",\"ticks\":\"\",\"title\":{\"standoff\":15},\"zerolinecolor\":\"white\",\"automargin\":true,\"zerolinewidth\":2},\"yaxis\":{\"gridcolor\":\"white\",\"linecolor\":\"white\",\"ticks\":\"\",\"title\":{\"standoff\":15},\"zerolinecolor\":\"white\",\"automargin\":true,\"zerolinewidth\":2},\"scene\":{\"xaxis\":{\"backgroundcolor\":\"#E5ECF6\",\"gridcolor\":\"white\",\"linecolor\":\"white\",\"showbackground\":true,\"ticks\":\"\",\"zerolinecolor\":\"white\",\"gridwidth\":2},\"yaxis\":{\"backgroundcolor\":\"#E5ECF6\",\"gridcolor\":\"white\",\"linecolor\":\"white\",\"showbackground\":true,\"ticks\":\"\",\"zerolinecolor\":\"white\",\"gridwidth\":2},\"zaxis\":{\"backgroundcolor\":\"#E5ECF6\",\"gridcolor\":\"white\",\"linecolor\":\"white\",\"showbackground\":true,\"ticks\":\"\",\"zerolinecolor\":\"white\",\"gridwidth\":2}},\"shapedefaults\":{\"line\":{\"color\":\"#2a3f5f\"}},\"annotationdefaults\":{\"arrowcolor\":\"#2a3f5f\",\"arrowhead\":0,\"arrowwidth\":1},\"geo\":{\"bgcolor\":\"white\",\"landcolor\":\"#E5ECF6\",\"subunitcolor\":\"white\",\"showland\":true,\"showlakes\":true,\"lakecolor\":\"white\"},\"title\":{\"x\":0.05},\"mapbox\":{\"style\":\"light\"}}},\"legend\":{\"tracegroupgap\":0},\"margin\":{\"t\":60},\"piecolorway\":[\"rgb(103,0,13)\",\"rgb(165,15,21)\",\"rgb(203,24,29)\",\"rgb(239,59,44)\",\"rgb(251,106,74)\",\"rgb(252,146,114)\",\"rgb(252,187,161)\",\"rgb(254,224,210)\",\"rgb(255,245,240)\"],\"uniformtext\":{\"minsize\":12,\"mode\":\"hide\"},\"title\":{\"text\":\"Zomato's Presence around the World\",\"x\":0.5}},                        {\"responsive\": true}                    ).then(function(){\n",
       "                            \n",
       "var gd = document.getElementById('49f6b01f-9192-4ac1-9170-648e288b4b0f');\n",
       "var x = new MutationObserver(function (mutations, observer) {{\n",
       "        var display = window.getComputedStyle(gd).display;\n",
       "        if (!display || display === 'none') {{\n",
       "            console.log([gd, 'removed!']);\n",
       "            Plotly.purge(gd);\n",
       "            observer.disconnect();\n",
       "        }}\n",
       "}});\n",
       "\n",
       "// Listen for the removal of the full notebook cells\n",
       "var notebookContainer = gd.closest('#notebook-container');\n",
       "if (notebookContainer) {{\n",
       "    x.observe(notebookContainer, {childList: true});\n",
       "}}\n",
       "\n",
       "// Listen for the clearing of the current output cell\n",
       "var outputEl = gd.closest('.output');\n",
       "if (outputEl) {{\n",
       "    x.observe(outputEl, {childList: true});\n",
       "}}\n",
       "\n",
       "                        })                };                });            </script>        </div>"
      ]
     },
     "metadata": {},
     "output_type": "display_data"
    }
   ],
   "source": [
    "import dash\n",
    "from dash import dcc\n",
    "from dash import html\n",
    "from dash.dependencies import Input, Output\n",
    "import plotly.express as px\n",
    "import plotly.graph_objs as go\n",
    "import pandas as pd\n",
    "import numpy as np\n",
    "import seaborn as sns\n",
    "\n",
    "df=pd.read_csv('https://confrecordings.ams3.cdn.digitaloceanspaces.com/expert3chap3%2Fzomato_data1.csv')\n",
    "df.drop(df.columns[[0,1]], axis=1, inplace=True)\n",
    "df.head()\n",
    "\n",
    "country_wise_df = (df['Country'].value_counts())\n",
    "pie_country_wise = px.pie(country_wise_df, values=country_wise_df.values, names=country_wise_df.index, color_discrete_sequence=px.colors.sequential.Reds_r)\n",
    "pie_country_wise.update_traces(textposition='inside')\n",
    "pie_country_wise.update_layout(uniformtext_minsize=12, uniformtext_mode='hide')\n",
    "pie_country_wise.update_layout(title_text=\"Zomato's Presence around the World\", title_x=0.5)"
   ]
  },
  {
   "cell_type": "code",
   "execution_count": 7,
   "id": "38cf51bd-fbe2-4a1b-bbb6-8addfb1f5f2f",
   "metadata": {},
   "outputs": [],
   "source": [
    "from dash import Dash\n",
    "\n",
    "app = Dash(__name__)\n",
    "app.layout = html.Div(children=[\n",
    "    \n",
    "    #This is the main header of the dashboard displaying the name - ZOMATO DASHBOARD\n",
    "    html.Div(children=[\n",
    "        \n",
    "            html.H1(children='ZOMATO DASHBOARD'), \n",
    "            html.Div(children='A one-stop dashboard to get all your information about Zomato')],\n",
    "            style={'textAlign': 'center','backgroundColor':'#E23744','color': 'white','font-family':['Open Sans','sans-serif'], \n",
    "                   'font-style': ['italic'],'padding-top':'20px','padding-bottom':'40px','fontSize':17}\n",
    "            ),\n",
    "    \n",
    "    #This is the first row of the dashboard displaying three cards\n",
    "    html.Div(children=[\n",
    "            \n",
    "            #The first one is for the number of restaurants on Zomato app from across the world\n",
    "            html.Div([\n",
    "                html.H3(children=\"NUMBER OF RESTAURANTS WORLDWIDE\", style={'fontSize':25}),\n",
    "                html.P(df.shape[0], style={'fontSize':30})],\n",
    "                style={'display':'inline-block','width': '28%','textAlign': 'center','backgroundColor': '#2D2D2D',\n",
    "                       'color': 'white','margin':'25px','border-radius':'5px','box-shadow':'2px 2px 2px #1f2c56'}),\n",
    "            \n",
    "            #The second one displays the number of restaurants on Zomato app which are located in the country that has been\n",
    "            #selected from the first dropdown\n",
    "            html.Div([\n",
    "                html.H3(children=\"NUMBER OF RESTAURANTS IN SELECTED COUNTRY\", style={'fontSize':25}),\n",
    "                html.P(id=\"numOfRestCountry\", children=8652, style={'fontSize':30})],\n",
    "                style={'display':'inline-block','width': '28%','textAlign': 'center','backgroundColor': '#2D2D2D',\n",
    "                       'color': 'white','margin':'25px','border-radius':'5px','box-shadow':'2px 2px 2px #1f2c56'}),\n",
    "        \n",
    "            #The third card displays the number of restaurants on Zomato app which are located in the city that has been\n",
    "            #selected from the second dropdown\n",
    "            html.Div([\n",
    "                html.H3(children=\"NUMBER OF RESTAURANTS IN SELECTED CITY\", style={'fontSize':25}),\n",
    "                html.P(id=\"numOfRestCity\",children=20, style={'fontSize':30})],\n",
    "                style={'display':'inline-block','width': '28%','textAlign': 'center','backgroundColor': '#2D2D2D',\n",
    "                       'color': 'white','margin':'25px','border-radius':'5px','box-shadow':'2px 2px 2px #1f2c56'}),   \n",
    "        \n",
    "        ]),\n",
    "    \n",
    "    #This is the second row of the dashboard\n",
    "    html.Div(children=[\n",
    "            \n",
    "            #This first div in the second row contains three different Dash core components \n",
    "            #Two dropdown lists and a slider\n",
    "            html.Div(children=[\n",
    "                    \n",
    "                #The first component in this Div is a dropdown menu which displays the different countries \n",
    "                html.P('SELECT COUNTRY: ', style={'color':'white'}),\n",
    "                dcc.Dropdown(\n",
    "                        id=\"countries_dropdown\",\n",
    "                        multi=False,\n",
    "                        clearable=True,\n",
    "                        value='India',\n",
    "                        placeholder=\"Select Countries:\",\n",
    "                        options=[{'label':c, 'value':c} for c in (df['Country'].unique())]),\n",
    "                html.Br(),\n",
    "                html.Br(),\n",
    "                    \n",
    "                #The second component in this Div is another dropdown menu which displays the different cities \n",
    "                html.P('SELECT CITY: ', style={'color':'white'}),\n",
    "                dcc.Dropdown(\n",
    "                        id=\"cities_dropdown\",\n",
    "                        multi=False,\n",
    "                        clearable=True,\n",
    "                        value='New Delhi',\n",
    "                        placeholder=\"Select Cities:\",\n",
    "                        options=[]),\n",
    "                html.Br(),\n",
    "                html.Br(), \n",
    "                    \n",
    "                #The final component in this Div is a slider which allows us to select ratings from 0 to 5.  \n",
    "\n",
    "                html.P('SELECT RATING: ', style={'color':'white'}),\n",
    "                html.Br(),\n",
    "                dcc.Slider(\n",
    "                        id='slider',\n",
    "                        min=0,\n",
    "                        max=5,\n",
    "                        step=None,\n",
    "                        marks=\n",
    "                        {\n",
    "                            0: '0 *',\n",
    "                            1: '1 *',\n",
    "                            2: '2 *',\n",
    "                            3: '3 *',\n",
    "                            4: '4 *',\n",
    "                            5: '5 *'\n",
    "                        },\n",
    "                        value=5)\n",
    "                ],\n",
    "                style={'display':'inline-block','textAlign': 'left','backgroundColor': '#2D2D2D','color': 'black',\n",
    "                        'margin-left':'25px','margin-right':'25px','width':'30%','border-radius':'5px',\n",
    "                        'box-shadow':'2px 2px 2px #1f2c56','padding':'25px'}\n",
    "            ),\n",
    "            \n",
    "            \n",
    "            #The second div in the second row displays a static pie chart showcasing the presence of Zomato across the globe\n",
    "            html.Div([\n",
    "                    dcc.Graph(\n",
    "                            id=\"pie-chart1\", figure=pie_country_wise, \n",
    "                            style={'display':'inline-block','width':'57vh',\n",
    "                                    'margin-left':'25px','margin-right':'25px','align':'center'})\n",
    "                    ]),\n",
    "        \n",
    "            #This third div in the second row displays a bar chart \n",
    "\n",
    "            html.Div([\n",
    "                    dcc.Graph(\n",
    "                            id=\"bar-chart\", \n",
    "                            style={'display':'inline-block','width':'57vh','margin-left':'25px','margin-right':'25px',\n",
    "                                   'align':'center'})]\n",
    "                    )], \n",
    "\n",
    "            style={'display':'flex'}\n",
    "        ),\n",
    "    \n",
    "    #This is the third row of the dashboard\n",
    "    html.Div([\n",
    "            \n",
    "            #The first div in this row displays a grouped bar chart\n",
    "\n",
    "            html.Div([\n",
    "                    dcc.Graph(\n",
    "                            id=\"grouped-bar-chart\", \n",
    "                            style={'display':'inline-block','width':'57vh','margin-left':'25px','margin-right':'25px'})\n",
    "                    ]),\n",
    "            \n",
    "        \n",
    "            #The second div in this row displays a scatter plot\n",
    "\n",
    "            html.Div([\n",
    "                    dcc.Graph(\n",
    "                            id=\"scatter_plot\", \n",
    "                            style={'display':'inline-block','width':'62vh','margin-left':'25px','margin-right':'1px'})\n",
    "                    ]),\n",
    "\n",
    "        \n",
    "            #The third div in this row displays a donut chart\n",
    "\n",
    "            html.Div([\n",
    "                    dcc.Graph(\n",
    "                            id=\"donut_graph\", \n",
    "                            style={'display':'inline-block','width':'57vh','margin-left':'25px','margin-right':'25px'})]\n",
    "                    )], \n",
    "\n",
    "            style={'display':'flex','margin-top':'25px'}\n",
    "        ),\n",
    "    \n",
    "        \n",
    "    #This is the fourth row of the dashboard\n",
    "    html.Div([\n",
    "        \n",
    "        #This is the a graph which depicts the denisty of restaurants in a country having selected number of stars\n",
    "        html.Div([dcc.Graph(id=\"world_map\")],style={'width':'90%','align':'center','margin-left':'25px','margin-right':'25px'})\n",
    "            \n",
    "            \n",
    "        ]),\n",
    "    \n",
    "    #This is the footer of the dashboard\n",
    "    html.Div(children=[\n",
    "         \n",
    "            html.Div(children='Created by clevered')],\n",
    "            style={'textAlign': 'center','backgroundColor':'#E23744','color': 'white','font-family':['Open Sans','sans-serif'], \n",
    "                   'font-style': ['italic'],'padding-top':'20px','padding-bottom':'20px','fontSize':17}\n",
    "            )\n",
    "    \n",
    "])"
   ]
  },
  {
   "cell_type": "code",
   "execution_count": 8,
   "id": "3b298bf8-1e55-4bf9-9638-fcd7f595f35b",
   "metadata": {},
   "outputs": [
    {
     "data": {
      "text/html": [
       "\n",
       "        <iframe\n",
       "            width=\"100%\"\n",
       "            height=\"650\"\n",
       "            src=\"http://127.0.0.1:8050/\"\n",
       "            frameborder=\"0\"\n",
       "            allowfullscreen\n",
       "            \n",
       "        ></iframe>\n",
       "        "
      ],
      "text/plain": [
       "<IPython.lib.display.IFrame at 0x255ef328100>"
      ]
     },
     "metadata": {},
     "output_type": "display_data"
    }
   ],
   "source": [
    "# Next, we specify the callback \n",
    "#This callback function is used to set the values in the City Dropdown menu from Selected Country in Country Dropdown menu\n",
    "@app.callback(\n",
    "    Output(\"cities_dropdown\", \"options\"),\n",
    "    Input(\"countries_dropdown\", \"value\"))\n",
    "def get_city_options(countries_dropdown):\n",
    "    df_result = df[df['Country']==countries_dropdown]\n",
    "    return [{'label':i , 'value': i} for i in df_result['City']]\n",
    "\n",
    "\n",
    "#This callback function is used to set the selected value in the City Dropdown menu as first city listed in the entire city list\n",
    "@app.callback(\n",
    "    Output(\"cities_dropdown\", \"value\"),\n",
    "    Input(\"cities_dropdown\", \"options\"))\n",
    "def get_city_options(cities_dropdown):\n",
    "    return [k['value'] for k in cities_dropdown][0]\n",
    "\n",
    "\n",
    "#This callback function is used to set the value displayed in the SECOND card\n",
    "\n",
    "@app.callback(\n",
    "    Output(\"numOfRestCountry\", \"children\"),\n",
    "    Input(\"countries_dropdown\", \"value\"))\n",
    "def get_city_options(countries_dropdown):\n",
    "    df_result = df[df['Country']==countries_dropdown]\n",
    "    return df_result.shape[0]\n",
    "\n",
    "\n",
    "#This callback function is used to set the value displayed in the THIRD card\n",
    "\n",
    "@app.callback(\n",
    "    Output(\"numOfRestCity\", \"children\"),\n",
    "    Input(\"cities_dropdown\", \"value\"))\n",
    "def get_city_options(cities_dropdown):\n",
    "    df_result = df[df['City']==cities_dropdown]\n",
    "    return df_result.shape[0]\n",
    "\n",
    "\n",
    "#This callback function is used to update the bar chart displayed in the second row depending upon the country that has been\n",
    "#selected\n",
    "@app.callback(\n",
    "    Output(\"bar-chart\", \"figure\"),\n",
    "    [Input(\"countries_dropdown\", \"value\")])\n",
    "def update_bar_chart(countri):\n",
    "    country_wise_df = df[df['Country']==countri]\n",
    "    city_count = (country_wise_df['City'].value_counts())\n",
    "    fig = px.bar(city_count, x=city_count.index[:10], y=city_count.values[:10],\n",
    "                 labels={\"x\": \"Cities\",\"y\": \"Number of Restaurants\"},color_discrete_sequence=px.colors.qualitative.Set1)\n",
    "    fig.update_layout(plot_bgcolor=\"#f4f4f2\")\n",
    "    fig.update_layout(title_text='Top 10 cities in Selected Country', title_x=0.5)\n",
    "    return fig\n",
    "#This callback function is used to update the grouped bar chart displayed in the third row \n",
    "\n",
    "@app.callback(\n",
    "    Output(\"grouped-bar-chart\", \"figure\"),\n",
    "    [Input(\"countries_dropdown\", \"value\")])\n",
    "def update_grouped_bar_chart(countri):\n",
    "    country_wise_df = df[df['Country']==countri]\n",
    "    city_count = (country_wise_df['City'].value_counts())\n",
    "    top_10_cities = list(city_count.index[:10])\n",
    "    \n",
    "    top_10_cities_df = country_wise_df[country_wise_df[\"City\"].isin(top_10_cities)]\n",
    "    \n",
    "    fig2=px.histogram(top_10_cities_df, y=top_10_cities_df['City'], color=\"Has Online delivery\",barmode='group',\n",
    "                      color_discrete_sequence=px.colors.sequential.Reds_r)\n",
    "    fig2.update_layout(plot_bgcolor=\"#f4f4f2\")\n",
    "    fig2.update_layout(title_text='Restaurants having online delivery service', title_x=0.5)\n",
    "    \n",
    "    return fig2\n",
    "\n",
    "\n",
    "#This callback function is used to update the scatter displayed in the third row \n",
    "\n",
    "@app.callback(\n",
    "    Output(\"scatter_plot\", \"figure\"),\n",
    "    [Input(\"cities_dropdown\", \"value\")])\n",
    "def update_scatter_plot(city):\n",
    "    city_wise_df = df[df['City']==city]\n",
    "    fig = px.scatter(city_wise_df, x=\"Average Cost for two\", y=\"Aggregate rating\",color=\"Average Cost for two\",\n",
    "                     color_continuous_scale=px.colors.sequential.Reds_r,hover_data=[\"Restaurant Name\"])\n",
    "    fig.update_layout(plot_bgcolor=\"#f4f4f2\")\n",
    "    fig.update_layout(title_text='Cost for Two vs. Rating per City', title_x=0.2)\n",
    "    return fig\n",
    "\n",
    "\n",
    "#This callback function is used to update the donut graph displayed in the third row \n",
    "\n",
    "@app.callback(\n",
    "    Output(\"donut_graph\", \"figure\"),\n",
    "    [Input(\"countries_dropdown\", \"value\"),Input(\"slider\", \"value\")])\n",
    "def update_scatter_plot(countri,val):\n",
    "    country_df = df[df['Country']==countri]\n",
    "    \n",
    "    op='Dark Green'\n",
    "    if(val == 0):\n",
    "        op = 'White'\n",
    "    elif(val==1):\n",
    "        op = 'Red'\n",
    "    elif(val==2):\n",
    "        op = 'Orange'\n",
    "    elif(val==3):\n",
    "        op = 'Yellow'\n",
    "    elif(val==4):\n",
    "        op = 'Green'\n",
    "    elif(val==5):\n",
    "        op = 'Dark Green'\n",
    "    rating_df = country_df[country_df['Rating color']==op]\n",
    "    rating_wise_city_df = rating_df['City'].value_counts()\n",
    "    pie_rating_wise = px.pie(rating_wise_city_df, values=rating_wise_city_df.values, names=rating_wise_city_df.index, \n",
    "                             color_discrete_sequence=px.colors.sequential.Reds_r, hole=0.6)\n",
    "    pie_rating_wise.update_traces(textposition='inside')\n",
    "    pie_rating_wise.update_layout(uniformtext_minsize=12, uniformtext_mode='hide')\n",
    "    pie_rating_wise.update_layout(title_text=\"% of restaurants having number of Ratings\")\n",
    "    return pie_rating_wise\n",
    "\n",
    "\n",
    "#This callback function is used to update the world map choropleth displayed in the fourth row \n",
    "\n",
    "@app.callback(\n",
    "    Output(\"world_map\", \"figure\"),\n",
    "    [Input(\"slider\", \"value\")])\n",
    "def update_world_map(val):\n",
    "    \n",
    "    op='Dark Green'\n",
    "    if(val == 0):\n",
    "        op = 'White'\n",
    "    elif(val==1):\n",
    "        op = 'Red'\n",
    "    elif(val==2):\n",
    "        op = 'Orange'\n",
    "    elif(val==3):\n",
    "        op = 'Yellow'\n",
    "    elif(val==4):\n",
    "        op = 'Green'\n",
    "    elif(val==5):\n",
    "        op = 'Dark Green'\n",
    "        \n",
    "    rating_df_cmap = df[df['Rating color']==op]\n",
    "    cmap_df = (rating_df_cmap['Country'].value_counts())\n",
    "    \n",
    "    fig_world = px.choropleth(cmap_df, locations=cmap_df.index, locationmode='country names',color=cmap_df.values ,\n",
    "                              color_continuous_scale=px.colors.sequential.Reds)\n",
    "    fig_world.update_layout(geo=dict(bgcolor= '#f4f4f2'), title_text = 'Restaurants having number of Ratings by Country',\n",
    "                            title_x=0.5)\n",
    "    return fig_world\n",
    "\n",
    "\n",
    "# Finally, we run the application on our local server and get the final outcome.\n",
    "\n",
    "# In[ ]:\n",
    "\n",
    "\n",
    "if __name__ == '__main__':\n",
    "    app.run(debug=False)"
   ]
  },
  {
   "cell_type": "code",
   "execution_count": null,
   "id": "dcb74cd0-c73a-49a0-9cfd-f002df333bef",
   "metadata": {},
   "outputs": [],
   "source": []
  }
 ],
 "metadata": {
  "kernelspec": {
   "display_name": "Python 3 (ipykernel)",
   "language": "python",
   "name": "python3"
  },
  "language_info": {
   "codemirror_mode": {
    "name": "ipython",
    "version": 3
   },
   "file_extension": ".py",
   "mimetype": "text/x-python",
   "name": "python",
   "nbconvert_exporter": "python",
   "pygments_lexer": "ipython3",
   "version": "3.9.13"
  }
 },
 "nbformat": 4,
 "nbformat_minor": 5
}
